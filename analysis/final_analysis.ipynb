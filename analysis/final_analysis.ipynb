{
 "cells": [
  {
   "cell_type": "markdown",
   "metadata": {},
   "source": [
    "# DCPS3 Instantiation and Setup"
   ]
  },
  {
   "cell_type": "code",
   "execution_count": 1,
   "metadata": {},
   "outputs": [],
   "source": [
    "import tools.common_vars as common_vars\n",
    "\n",
    "common_vars.server = \"pi@nexys_ddmtd_dcps3\" # Change this to whatever you setup the pi's host name as in your ssh config\n",
    "\n",
    "from tools.DCPS3 import DCPS3_analyser\n",
    "\n",
    "# Keep these values the same\n",
    "N = 100_000\n",
    "freq = 160 # MHz\n",
    "\n",
    "analyser = DCPS3_analyser(N=N, freq=freq)\n",
    "\n",
    "data_save_folder_name = \"test\""
   ]
  },
  {
   "cell_type": "markdown",
   "metadata": {},
   "source": [
    "# DCPS3 Fine Delay Test"
   ]
  },
  {
   "cell_type": "code",
   "execution_count": 6,
   "metadata": {},
   "outputs": [],
   "source": [
    "fine_data_folder = f\"./data/{data_save_folder_name}/N{N}_fine\"\n",
    "\n",
    "analyser.test_dcps(fine_data_folder, \"fine_consistency\")"
   ]
  },
  {
   "cell_type": "markdown",
   "metadata": {},
   "source": [
    "# DCPS3 Coarse Delay Test"
   ]
  },
  {
   "cell_type": "code",
   "execution_count": 7,
   "metadata": {},
   "outputs": [],
   "source": [
    "coarse_data_folder = f\"./data/{data_save_folder_name}/N{N}_coarse\"\n",
    "\n",
    "analyser.test_dcps(coarse_data_folder, \"coarse_consistency\")"
   ]
  },
  {
   "cell_type": "markdown",
   "metadata": {},
   "source": [
    "# Coarse Delay Plotting"
   ]
  },
  {
   "cell_type": "code",
   "execution_count": 8,
   "metadata": {},
   "outputs": [],
   "source": [
    "figure_folder = f\"./figures/{data_save_folder_name}\"\n",
    "\n",
    "analyser.load_data(coarse_data_folder, \"coarse\")\n",
    "\n",
    "analyser.plot(figure_folder, \"coarse_delay\", \"coarse\")\n",
    "analyser.plot(figure_folder, \"coarse_consistency\", \"coarse\")"
   ]
  },
  {
   "cell_type": "markdown",
   "metadata": {},
   "source": [
    "# Fine Delay Plotting"
   ]
  },
  {
   "cell_type": "code",
   "execution_count": 10,
   "metadata": {},
   "outputs": [],
   "source": [
    "figure_folder = f\"./figures/{data_save_folder_name}\"\n",
    "\n",
    "analyser.load_data(fine_data_folder, \"fine\")\n",
    "\n",
    "analyser.plot(figure_folder, \"fine_delay\", \"fine\")\n",
    "analyser.plot(figure_folder, \"fine_consistency\", \"fine\")"
   ]
  }
 ],
 "metadata": {
  "kernelspec": {
   "display_name": "Python 3",
   "language": "python",
   "name": "python3"
  },
  "language_info": {
   "codemirror_mode": {
    "name": "ipython",
    "version": 3
   },
   "file_extension": ".py",
   "mimetype": "text/x-python",
   "name": "python",
   "nbconvert_exporter": "python",
   "pygments_lexer": "ipython3",
   "version": "3.10.6"
  }
 },
 "nbformat": 4,
 "nbformat_minor": 2
}
